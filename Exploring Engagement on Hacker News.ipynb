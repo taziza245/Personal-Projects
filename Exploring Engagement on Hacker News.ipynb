{
 "cells": [
  {
   "cell_type": "markdown",
   "metadata": {
    "collapsed": true
   },
   "source": [
    "# Exploring Engagement on Hacker News: Ask HN vs Show HN\n",
    "\n",
    "Hacker News is a popular platform started by Y Combinator, where users submit posts that can receive votes and comments, similar to Reddit. It's especially influential in the tech and startup world, and posts that reach the top can attract hundreds of thousands of views.\n",
    "\n",
    "For this project, we're working with a dataset of about 20,000 posts, which has been reduced from an original 300,000 by filtering out posts without comments and then randomly sampling the rest. Each post in the dataset includes information like the title, author, number of points (upvotes minus downvotes), number of comments, and the time it was created.\n",
    "\n",
    "We'll specifically focus on two types of posts: \"Ask HN,\" where users ask the community a question, and \"Show HN,\" where users share a project or product. Our goal is to find out:\n",
    "\n",
    "- Do \"Ask HN\" or \"Show HN\" posts tend to get more comments on average?\n",
    "- Does the time a post is created impact how many comments it receives?\n",
    "\n",
    "By exploring these questions, we'll gain insights into how engagement works on Hacker News."
   ]
  },
  {
   "cell_type": "code",
   "execution_count": 1,
   "metadata": {},
   "outputs": [
    {
     "name": "stdout",
     "output_type": "stream",
     "text": [
      "[['id', 'title', 'url', 'num_points', 'num_comments', 'author', 'created_at'], ['12224879', 'Interactive Dynamic Video', 'http://www.interactivedynamicvideo.com/', '386', '52', 'ne0phyte', '8/4/2016 11:52'], ['10975351', 'How to Use Open Source and Shut the Fuck Up at the Same Time', 'http://hueniverse.com/2016/01/26/how-to-use-open-source-and-shut-the-fuck-up-at-the-same-time/', '39', '10', 'josep2', '1/26/2016 19:30'], ['11964716', \"Florida DJs May Face Felony for April Fools' Water Joke\", 'http://www.thewire.com/entertainment/2013/04/florida-djs-april-fools-water-joke/63798/', '2', '1', 'vezycash', '6/23/2016 22:20'], ['11919867', 'Technology ventures: From Idea to Enterprise', 'https://www.amazon.com/Technology-Ventures-Enterprise-Thomas-Byers/dp/0073523429', '3', '1', 'hswarna', '6/17/2016 0:01']]\n"
     ]
    }
   ],
   "source": [
    "from csv import reader\n",
    "\n",
    "opened_file = open('hacker_news.csv') #open the file\n",
    "read_file = reader(opened_file) #read in the csv format\n",
    "hn = list(read_file) #create a list from the csv file\n",
    "\n",
    "print(hn[:5])"
   ]
  },
  {
   "cell_type": "code",
   "execution_count": 2,
   "metadata": {},
   "outputs": [
    {
     "name": "stdout",
     "output_type": "stream",
     "text": [
      "['id', 'title', 'url', 'num_points', 'num_comments', 'author', 'created_at']\n",
      "\n",
      "\n",
      "[['12224879', 'Interactive Dynamic Video', 'http://www.interactivedynamicvideo.com/', '386', '52', 'ne0phyte', '8/4/2016 11:52'], ['10975351', 'How to Use Open Source and Shut the Fuck Up at the Same Time', 'http://hueniverse.com/2016/01/26/how-to-use-open-source-and-shut-the-fuck-up-at-the-same-time/', '39', '10', 'josep2', '1/26/2016 19:30'], ['11964716', \"Florida DJs May Face Felony for April Fools' Water Joke\", 'http://www.thewire.com/entertainment/2013/04/florida-djs-april-fools-water-joke/63798/', '2', '1', 'vezycash', '6/23/2016 22:20'], ['11919867', 'Technology ventures: From Idea to Enterprise', 'https://www.amazon.com/Technology-Ventures-Enterprise-Thomas-Byers/dp/0073523429', '3', '1', 'hswarna', '6/17/2016 0:01'], ['10301696', 'Note by Note: The Making of Steinway L1037 (2007)', 'http://www.nytimes.com/2007/11/07/movies/07stein.html?_r=0', '8', '2', 'walterbell', '9/30/2015 4:12']]\n"
     ]
    }
   ],
   "source": [
    "headers = hn[0] #list containing just the header\n",
    "hn = hn[1:] #removing the header from the HackerNews Dataset\n",
    "\n",
    "print(headers)\n",
    "print('\\n')\n",
    "print(hn[:5])"
   ]
  },
  {
   "cell_type": "markdown",
   "metadata": {},
   "source": [
    "### Filtering Data\n",
    "\n",
    "We are only interested in post titles with \"Ask HN\" or \"Show HN\" so we will filter the data and create new lists of list containing the data for those titles. "
   ]
  },
  {
   "cell_type": "code",
   "execution_count": 83,
   "metadata": {},
   "outputs": [
    {
     "name": "stdout",
     "output_type": "stream",
     "text": [
      "The length of ask_posts list is 1744\n",
      "The length of the show_posts list is 1162\n",
      "The length of the other_posts list is 17194\n",
      "\n",
      "\n",
      "First 5 rows of ask_posts:\n",
      "[['12296411', 'Ask HN: How to improve my personal website?', '', '2', '6', 'ahmedbaracat', '8/16/2016 9:55'], ['10610020', 'Ask HN: Am I the only one outraged by Twitter shutting down share counts?', '', '28', '29', 'tkfx', '11/22/2015 13:43'], ['11610310', 'Ask HN: Aby recent changes to CSS that broke mobile?', '', '1', '1', 'polskibus', '5/2/2016 10:14'], ['12210105', 'Ask HN: Looking for Employee #3 How do I do it?', '', '1', '3', 'sph130', '8/2/2016 14:20'], ['10394168', 'Ask HN: Someone offered to buy my browser extension from me. What now?', '', '28', '17', 'roykolak', '10/15/2015 16:38']]\n",
      "\n",
      "\n",
      "First 5 rows of show_posts:\n",
      "[['10627194', 'Show HN: Wio Link  ESP8266 Based Web of Things Hardware Development Platform', 'https://iot.seeed.cc', '26', '22', 'kfihihc', '11/25/2015 14:03'], ['10646440', 'Show HN: Something pointless I made', 'http://dn.ht/picklecat/', '747', '102', 'dhotson', '11/29/2015 22:46'], ['11590768', 'Show HN: Shanhu.io, a programming playground powered by e8vm', 'https://shanhu.io', '1', '1', 'h8liu', '4/28/2016 18:05'], ['12178806', 'Show HN: Webscope  Easy way for web developers to communicate with Clients', 'http://webscopeapp.com', '3', '3', 'fastbrick', '7/28/2016 7:11'], ['10872799', 'Show HN: GeoScreenshot  Easily test Geo-IP based web pages', 'https://www.geoscreenshot.com/', '1', '9', 'kpsychwave', '1/9/2016 20:45']]\n"
     ]
    }
   ],
   "source": [
    "ask_posts = []\n",
    "show_posts = []\n",
    "other_posts = []\n",
    "\n",
    "for row in hn:\n",
    "    title = row[1]\n",
    "    title = title.lower()\n",
    "    if title.startswith('ask hn'):\n",
    "        ask_posts.append(row)\n",
    "    elif title.startswith('show hn'):\n",
    "        show_posts.append(row)\n",
    "    else:\n",
    "        other_posts.append(row)\n",
    "\n",
    "print('The length of ask_posts list is {}'.format(len(ask_posts)))\n",
    "print('The length of the show_posts list is {}'.format(len(show_posts)))\n",
    "print('The length of the other_posts list is {}'.format(len(other_posts)))\n",
    "print('\\n')\n",
    "print('First 5 rows of ask_posts:')\n",
    "print(ask_posts[:5])\n",
    "print('\\n')\n",
    "print('First 5 rows of show_posts:')\n",
    "print(show_posts[:5])"
   ]
  },
  {
   "cell_type": "markdown",
   "metadata": {},
   "source": [
    "### Analyzing Comments Per Posts"
   ]
  },
  {
   "cell_type": "code",
   "execution_count": 49,
   "metadata": {},
   "outputs": [
    {
     "name": "stdout",
     "output_type": "stream",
     "text": [
      "The average number of comments in ask posts is 14.038417431192661.\n",
      "The average number of comments in show posts is 10.31669535283993.\n"
     ]
    }
   ],
   "source": [
    "total_ask_comments = 0\n",
    "\n",
    "#average number of comments in ask_posts\n",
    "for row in ask_posts:\n",
    "    comment = row[4]\n",
    "    comment = int(comment)\n",
    "    total_ask_comments += comment\n",
    "\n",
    "avg_ask_comments = total_ask_comments / len(ask_posts)\n",
    "print('The average number of comments in ask posts is {}.'.format(avg_ask_comments))\n",
    "\n",
    "\n",
    "#average nunmber of comments in show posts\n",
    "total_show_comments = 0\n",
    "\n",
    "for row in show_posts:\n",
    "    s_comment = row[4]\n",
    "    s_comment = int(s_comment)\n",
    "    total_show_comments += s_comment\n",
    "\n",
    "avg_show_comments = total_show_comments / len(show_posts)\n",
    "print('The average number of comments in show posts is {}.'.format(avg_show_comments))"
   ]
  },
  {
   "cell_type": "markdown",
   "metadata": {},
   "source": [
    "Ask posts seem to receive on average more comments than show posts so we'll focus on those for now. We will see if asks posts that are created at certain times are more likely to receive comments. To do this, we'll create a frequency table to calculate the number of ask posts created in a each hour of the day and the corresponding number of comments received. We will then calculate the average number of comments ask posts received by each hour. "
   ]
  },
  {
   "cell_type": "markdown",
   "metadata": {},
   "source": [
    "### Ask Posts Comments Frequency Table"
   ]
  },
  {
   "cell_type": "code",
   "execution_count": 61,
   "metadata": {},
   "outputs": [
    {
     "name": "stdout",
     "output_type": "stream",
     "text": [
      "Counts By Hour:\n",
      "{'09': 45, '13': 85, '10': 59, '14': 107, '16': 108, '23': 68, '12': 73, '17': 100, '15': 116, '21': 109, '20': 80, '02': 58, '18': 109, '03': 54, '05': 46, '19': 110, '01': 60, '22': 71, '08': 48, '04': 47, '00': 55, '06': 44, '07': 34, '11': 58}\n",
      "\n",
      "\n",
      "Comments By Hour:\n",
      "{'09': 251, '13': 1253, '10': 793, '14': 1416, '16': 1814, '23': 543, '12': 687, '17': 1146, '15': 4477, '21': 1745, '20': 1722, '02': 1381, '18': 1439, '03': 421, '05': 464, '19': 1188, '01': 683, '22': 479, '08': 492, '04': 337, '00': 447, '06': 397, '07': 267, '11': 641}\n"
     ]
    }
   ],
   "source": [
    "import datetime as dt\n",
    "\n",
    "result_list = []\n",
    "\n",
    "for row in ask_posts:\n",
    "    created_at = row[6]\n",
    "    comment = int(row[4])\n",
    "    result_list.append([created_at, comment])\n",
    "\n",
    "counts_by_hour = {}\n",
    "comments_by_hour = {}\n",
    "date_format = '%m/%d/%Y %H:%M'\n",
    "\n",
    "for row in result_list:\n",
    "    date = row[0]\n",
    "    hour = dt.datetime.strptime(date, date_format).strftime('%H')\n",
    "    comment  = row[1]\n",
    "    if hour not in counts_by_hour:\n",
    "        counts_by_hour[hour] = 1\n",
    "        comments_by_hour[hour] = comment\n",
    "    else:\n",
    "        counts_by_hour[hour] += 1\n",
    "        comments_by_hour[hour] += comment\n",
    "        \n",
    "print(\"Counts By Hour:\")\n",
    "print(counts_by_hour)\n",
    "print('\\n')\n",
    "print(\"Comments By Hour:\")\n",
    "print(comments_by_hour)"
   ]
  },
  {
   "cell_type": "markdown",
   "metadata": {},
   "source": [
    "Using the count_by_hour and comments_by_hour dictionaries, we will now calculate the average number of comments for posts created during each hour of the day"
   ]
  },
  {
   "cell_type": "code",
   "execution_count": 73,
   "metadata": {},
   "outputs": [
    {
     "data": {
      "text/plain": [
       "[['09', 5.5777777777777775],\n",
       " ['13', 14.741176470588234],\n",
       " ['10', 13.440677966101696],\n",
       " ['14', 13.233644859813085],\n",
       " ['16', 16.796296296296298],\n",
       " ['23', 7.985294117647059],\n",
       " ['12', 9.41095890410959],\n",
       " ['17', 11.46],\n",
       " ['15', 38.5948275862069],\n",
       " ['21', 16.009174311926607],\n",
       " ['20', 21.525],\n",
       " ['02', 23.810344827586206],\n",
       " ['18', 13.20183486238532],\n",
       " ['03', 7.796296296296297],\n",
       " ['05', 10.08695652173913],\n",
       " ['19', 10.8],\n",
       " ['01', 11.383333333333333],\n",
       " ['22', 6.746478873239437],\n",
       " ['08', 10.25],\n",
       " ['04', 7.170212765957447],\n",
       " ['00', 8.127272727272727],\n",
       " ['06', 9.022727272727273],\n",
       " ['07', 7.852941176470588],\n",
       " ['11', 11.051724137931034]]"
      ]
     },
     "execution_count": 73,
     "metadata": {},
     "output_type": "execute_result"
    }
   ],
   "source": [
    "avg_by_hour = []\n",
    "\n",
    "for hour in counts_by_hour:\n",
    "    avg_by_hour.append([hour, comments_by_hour[hour]/counts_by_hour[hour]])\n",
    "\n",
    "avg_by_hour"
   ]
  },
  {
   "cell_type": "markdown",
   "metadata": {},
   "source": [
    "Let's clean up this list so it's easier to see the hours with the highest values (average number of comments)."
   ]
  },
  {
   "cell_type": "code",
   "execution_count": 79,
   "metadata": {},
   "outputs": [
    {
     "data": {
      "text/plain": [
       "[[38.5948275862069, '15'],\n",
       " [23.810344827586206, '02'],\n",
       " [21.525, '20'],\n",
       " [16.796296296296298, '16'],\n",
       " [16.009174311926607, '21'],\n",
       " [14.741176470588234, '13'],\n",
       " [13.440677966101696, '10'],\n",
       " [13.233644859813085, '14'],\n",
       " [13.20183486238532, '18'],\n",
       " [11.46, '17'],\n",
       " [11.383333333333333, '01'],\n",
       " [11.051724137931034, '11'],\n",
       " [10.8, '19'],\n",
       " [10.25, '08'],\n",
       " [10.08695652173913, '05'],\n",
       " [9.41095890410959, '12'],\n",
       " [9.022727272727273, '06'],\n",
       " [8.127272727272727, '00'],\n",
       " [7.985294117647059, '23'],\n",
       " [7.852941176470588, '07'],\n",
       " [7.796296296296297, '03'],\n",
       " [7.170212765957447, '04'],\n",
       " [6.746478873239437, '22'],\n",
       " [5.5777777777777775, '09']]"
      ]
     },
     "execution_count": 79,
     "metadata": {},
     "output_type": "execute_result"
    }
   ],
   "source": [
    "#swapping the columns of avg_by_hour\n",
    "swap_avg_by_hour = []\n",
    "for row in avg_by_hour:\n",
    "    swap_avg_by_hour.append([row[1], row[0]])\n",
    "\n",
    "#sorting the swapped list in descending order\n",
    "sorted_swap = sorted(swap_avg_by_hour, reverse = True)\n",
    "sorted_swap"
   ]
  },
  {
   "cell_type": "code",
   "execution_count": 82,
   "metadata": {},
   "outputs": [
    {
     "name": "stdout",
     "output_type": "stream",
     "text": [
      "Top 5 Hours For Ask Posts Comments:\n",
      "15:00: 38.59 averages comments per post\n",
      "02:00: 23.81 averages comments per post\n",
      "20:00: 21.52 averages comments per post\n",
      "16:00: 16.80 averages comments per post\n",
      "21:00: 16.01 averages comments per post\n"
     ]
    }
   ],
   "source": [
    "print(\"Top 5 Hours For Ask Posts Comments:\")\n",
    "for row in sorted_swap[0:5]:\n",
    "    hour = row[1]\n",
    "    hour = dt.datetime.strptime(hour, '%H').strftime('%H:00')\n",
    "    print('{}: {:.2f} averages comments per post'.format(hour, row[0]))"
   ]
  },
  {
   "cell_type": "markdown",
   "metadata": {},
   "source": [
    "The hour with the highest average number of comments per post is 15:00 (3:00 PM EST), with an average of 38.59 comments per post. This represents roughly a 60% increase in comments compared to the second highest hour. According to the dataset documentation, the time is in Eastern Time (EST)."
   ]
  },
  {
   "cell_type": "markdown",
   "metadata": {},
   "source": [
    "### Show Posts Comments Frequency Table"
   ]
  },
  {
   "cell_type": "code",
   "execution_count": 85,
   "metadata": {},
   "outputs": [
    {
     "name": "stdout",
     "output_type": "stream",
     "text": [
      "Counts By Hour:\n",
      "{'14': 86, '22': 46, '18': 61, '07': 26, '20': 60, '05': 19, '16': 93, '19': 55, '15': 78, '03': 27, '17': 93, '06': 16, '02': 30, '13': 99, '08': 34, '21': 47, '04': 26, '11': 44, '12': 61, '23': 36, '09': 30, '01': 28, '10': 36, '00': 31}\n",
      "\n",
      "\n",
      "Comments By Hour:\n",
      "{'14': 1156, '22': 570, '18': 962, '07': 299, '20': 612, '05': 58, '16': 1084, '19': 539, '15': 632, '03': 287, '17': 911, '06': 142, '02': 127, '13': 946, '08': 165, '21': 272, '04': 247, '11': 491, '12': 720, '23': 447, '09': 291, '01': 246, '10': 297, '00': 487}\n"
     ]
    }
   ],
   "source": [
    "import datetime as dt\n",
    "\n",
    "result_list = []\n",
    "\n",
    "for row in show_posts:\n",
    "    created_at = row[6]\n",
    "    comment = int(row[4])\n",
    "    result_list.append([created_at, comment])\n",
    "\n",
    "counts_by_hour = {}\n",
    "comments_by_hour = {}\n",
    "date_format = '%m/%d/%Y %H:%M'\n",
    "\n",
    "for row in result_list:\n",
    "    date = row[0]\n",
    "    hour = dt.datetime.strptime(date, date_format).strftime('%H')\n",
    "    comment  = row[1]\n",
    "    if hour not in counts_by_hour:\n",
    "        counts_by_hour[hour] = 1\n",
    "        comments_by_hour[hour] = comment\n",
    "    else:\n",
    "        counts_by_hour[hour] += 1\n",
    "        comments_by_hour[hour] += comment\n",
    "        \n",
    "print(\"Counts By Hour:\")\n",
    "print(counts_by_hour)\n",
    "print('\\n')\n",
    "print(\"Comments By Hour:\")\n",
    "print(comments_by_hour)"
   ]
  },
  {
   "cell_type": "code",
   "execution_count": 86,
   "metadata": {},
   "outputs": [
    {
     "name": "stdout",
     "output_type": "stream",
     "text": [
      "Top 5 Hours For Show Posts Comments:\n",
      "18:00: 15.77 averages comments per post\n",
      "00:00: 15.71 averages comments per post\n",
      "14:00: 13.44 averages comments per post\n",
      "23:00: 12.42 averages comments per post\n",
      "22:00: 12.39 averages comments per post\n"
     ]
    }
   ],
   "source": [
    "avg_by_hour = []\n",
    "\n",
    "for hour in counts_by_hour:\n",
    "    avg_by_hour.append([hour, comments_by_hour[hour]/counts_by_hour[hour]])\n",
    "\n",
    "#swapping the columns of avg_by_hour\n",
    "swap_avg_by_hour = []\n",
    "for row in avg_by_hour:\n",
    "    swap_avg_by_hour.append([row[1], row[0]])\n",
    "\n",
    "#sorting the swapped list in descending order\n",
    "sorted_swap = sorted(swap_avg_by_hour, reverse = True)\n",
    "sorted_swap\n",
    "\n",
    "print(\"Top 5 Hours For Show Posts Comments:\")\n",
    "for row in sorted_swap[0:5]:\n",
    "    hour = row[1]\n",
    "    hour = dt.datetime.strptime(hour, '%H').strftime('%H:00')\n",
    "    print('{}: {:.2f} averages comments per post'.format(hour, row[0]))"
   ]
  },
  {
   "cell_type": "markdown",
   "metadata": {},
   "source": [
    "### Analyzing Points Per Posts"
   ]
  },
  {
   "cell_type": "code",
   "execution_count": 84,
   "metadata": {},
   "outputs": [
    {
     "name": "stdout",
     "output_type": "stream",
     "text": [
      "The average number of points in ask posts is 15.061926605504587.\n",
      "The average number of points in show posts is 27.555077452667813.\n"
     ]
    }
   ],
   "source": [
    "total_ask_points = 0\n",
    "\n",
    "#average number of points in ask_posts\n",
    "for row in ask_posts:\n",
    "    points = row[3]\n",
    "    points = int(points)\n",
    "    total_ask_points += points\n",
    "\n",
    "avg_ask_points = total_ask_points / len(ask_posts)\n",
    "print('The average number of points in ask posts is {}.'.format(avg_ask_points))\n",
    "\n",
    "\n",
    "#average nunmber of points in show posts\n",
    "total_show_points = 0\n",
    "\n",
    "for row in show_posts:\n",
    "    s_points = row[3]\n",
    "    s_points = int(s_points)\n",
    "    total_show_points += s_points\n",
    "\n",
    "avg_show_points = total_show_points / len(show_posts)\n",
    "print('The average number of points in show posts is {}.'.format(avg_show_points))"
   ]
  },
  {
   "cell_type": "markdown",
   "metadata": {},
   "source": [
    "Unlike with comments, show posts receive more points on average than ask posts. "
   ]
  },
  {
   "cell_type": "markdown",
   "metadata": {},
   "source": [
    "### Show Posts Points Frequency Table"
   ]
  },
  {
   "cell_type": "code",
   "execution_count": 90,
   "metadata": {},
   "outputs": [
    {
     "name": "stdout",
     "output_type": "stream",
     "text": [
      "Counts By Hour:\n",
      "{'14': 86, '22': 46, '18': 61, '07': 26, '20': 60, '05': 19, '16': 93, '19': 55, '15': 78, '03': 27, '17': 93, '06': 16, '02': 30, '13': 99, '08': 34, '21': 47, '04': 26, '11': 44, '12': 61, '23': 36, '09': 30, '01': 28, '10': 36, '00': 31}\n",
      "\n",
      "\n",
      "Points By Hour:\n",
      "{'14': 2187, '22': 1856, '18': 2215, '07': 494, '20': 1819, '05': 104, '16': 2634, '19': 1702, '15': 2228, '03': 679, '17': 2521, '06': 375, '02': 340, '13': 2438, '08': 519, '21': 866, '04': 386, '11': 1480, '12': 2543, '23': 1526, '09': 553, '01': 700, '10': 681, '00': 1173}\n"
     ]
    }
   ],
   "source": [
    "import datetime as dt\n",
    "\n",
    "result_list = []\n",
    "\n",
    "for row in show_posts:\n",
    "    created_at = row[6]\n",
    "    points = int(row[3])\n",
    "    result_list.append([created_at, points])\n",
    "\n",
    "counts_by_hour = {}\n",
    "points_by_hour = {}\n",
    "date_format = '%m/%d/%Y %H:%M'\n",
    "\n",
    "for row in result_list:\n",
    "    date = row[0]\n",
    "    hour = dt.datetime.strptime(date, date_format).strftime('%H')\n",
    "    points  = row[1]\n",
    "    if hour not in counts_by_hour:\n",
    "        counts_by_hour[hour] = 1\n",
    "        points_by_hour[hour] = points\n",
    "    else:\n",
    "        counts_by_hour[hour] += 1\n",
    "        points_by_hour[hour] += points\n",
    "        \n",
    "print(\"Counts By Hour:\")\n",
    "print(counts_by_hour)\n",
    "print('\\n')\n",
    "print(\"Points By Hour:\")\n",
    "print(points_by_hour)"
   ]
  },
  {
   "cell_type": "code",
   "execution_count": 94,
   "metadata": {},
   "outputs": [
    {
     "name": "stdout",
     "output_type": "stream",
     "text": [
      "Top 5 Hours For Show Posts Comments:\n",
      "23:00: 42.39 averages points per post\n",
      "12:00: 41.69 averages points per post\n",
      "22:00: 40.35 averages points per post\n",
      "00:00: 37.84 averages points per post\n",
      "18:00: 36.31 averages points per post\n"
     ]
    }
   ],
   "source": [
    "avg_by_hour = []\n",
    "\n",
    "for hour in counts_by_hour:\n",
    "    avg_by_hour.append([hour, points_by_hour[hour]/counts_by_hour[hour]])\n",
    "\n",
    "\n",
    "#swapping the columns of avg_by_hour\n",
    "swap_avg_by_hour = []\n",
    "for row in avg_by_hour:\n",
    "    swap_avg_by_hour.append([row[1], row[0]])\n",
    "\n",
    "#sorting the swapped list in descending order\n",
    "sorted_swap = sorted(swap_avg_by_hour, reverse = True)\n",
    "\n",
    "print(\"Top 5 Hours For Show Posts Comments:\")\n",
    "for row in sorted_swap[0:5]:\n",
    "    hour = row[1]\n",
    "    hour = dt.datetime.strptime(hour, '%H').strftime('%H:00')\n",
    "    print('{}: {:.2f} averages points per post'.format(hour, row[0]))"
   ]
  },
  {
   "cell_type": "markdown",
   "metadata": {},
   "source": [
    "The hour with the most Show Posts comments is 23:00 (11:00 PM EST) with an average of 42.39 points per post. "
   ]
  }
 ],
 "metadata": {
  "kernelspec": {
   "display_name": "Python 3",
   "language": "python",
   "name": "python3"
  },
  "language_info": {
   "codemirror_mode": {
    "name": "ipython",
    "version": 3
   },
   "file_extension": ".py",
   "mimetype": "text/x-python",
   "name": "python",
   "nbconvert_exporter": "python",
   "pygments_lexer": "ipython3",
   "version": "3.8.2"
  }
 },
 "nbformat": 4,
 "nbformat_minor": 2
}
