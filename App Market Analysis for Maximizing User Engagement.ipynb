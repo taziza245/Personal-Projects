{
 "cells": [
  {
   "cell_type": "markdown",
   "metadata": {},
   "source": [
    "# App Market Analysis for Maximizing User Engagement"
   ]
  },
  {
   "cell_type": "markdown",
   "metadata": {},
   "source": [
    "### Introduction\n",
    "This project focuses on analyzing mobile app market data to identify the types of free apps that attract the most users. Since the primary revenue source is through in-app advertisements, understanding user preferences and market trends is crucial. The goal is to leverage this analysis to guide app development strategies, ensuring that the apps created have the highest potential for user engagement and revenue generation."
   ]
  },
  {
   "cell_type": "markdown",
   "metadata": {},
   "source": [
    "### Data Cleaning and Exploratory Data Analysis\n",
    "Given the vast number of apps available as of September 2018—approximately 2 million on the App Store and 2.1 million on Google Play—analyzing data for over 4 million apps is impractical due to the significant time and cost involved. Instead, we will focus on a representative sample of the data. To optimize our resources, we have identified two existing datasets that are well-suited for our analysis:\n",
    "\n",
    "- A dataset of approximately 10,000 Android apps from Google Play, collected in August 2018.\n",
    "- A dataset of approximately 7,000 iOS apps from the App Store, collected in July 2017.\n",
    "\n",
    "These datasets provide a manageable yet comprehensive sample for conducting exploratory data analysis (EDA). The EDA will allow us to uncover patterns, identify trends, and gain insights into the types of apps that are most likely to attract users. By analyzing this data, we aim to guide our app development strategy toward maximizing user engagement and revenue generation."
   ]
  },
  {
   "cell_type": "code",
   "execution_count": 1,
   "metadata": {},
   "outputs": [],
   "source": [
    "def explore_data(dataset, start, end, rows_and_columns=False):\n",
    "    dataset_slice = dataset[start:end]    \n",
    "    for row in dataset_slice:\n",
    "        print(row)\n",
    "        print('\\n') # adds a new (empty) line after each row\n",
    "\n",
    "    if rows_and_columns:\n",
    "        print('Number of rows:', len(dataset))\n",
    "        print('Number of columns:', len(dataset[0]))"
   ]
  },
  {
   "cell_type": "code",
   "execution_count": 2,
   "metadata": {},
   "outputs": [],
   "source": [
    "from csv import reader\n",
    "\n",
    "#The App Store data\n",
    "opened_file = open('AppleStore.csv')\n",
    "read_file = reader(opened_file)\n",
    "ios = list(read_file)\n",
    "ios_header = ios[0]\n",
    "ios = ios[1:]\n",
    "\n",
    "#Google Play data\n",
    "opened_file = open('googleplaystore.csv')\n",
    "read_file = reader(opened_file)\n",
    "android = list(read_file)\n",
    "android_header = android[0]\n",
    "android = android[1:]"
   ]
  },
  {
   "cell_type": "code",
   "execution_count": 3,
   "metadata": {},
   "outputs": [
    {
     "name": "stdout",
     "output_type": "stream",
     "text": [
      "['389801252', 'Instagram', '113954816', 'USD', '0.0', '2161558', '1289', '4.5', '4.0', '10.23', '12+', 'Photo & Video', '37', '0', '29', '1']\n",
      "\n",
      "\n",
      "['529479190', 'Clash of Clans', '116476928', 'USD', '0.0', '2130805', '579', '4.5', '4.5', '9.24.12', '9+', 'Games', '38', '5', '18', '1']\n",
      "\n",
      "\n",
      "['420009108', 'Temple Run', '65921024', 'USD', '0.0', '1724546', '3842', '4.5', '4.0', '1.6.2', '9+', 'Games', '40', '5', '1', '1']\n",
      "\n",
      "\n",
      "['284035177', 'Pandora - Music & Radio', '130242560', 'USD', '0.0', '1126879', '3594', '4.0', '4.5', '8.4.1', '12+', 'Music', '37', '4', '1', '1']\n",
      "\n",
      "\n",
      "Number of rows: 7197\n",
      "Number of columns: 16\n",
      "['id', 'track_name', 'size_bytes', 'currency', 'price', 'rating_count_tot', 'rating_count_ver', 'user_rating', 'user_rating_ver', 'ver', 'cont_rating', 'prime_genre', 'sup_devices.num', 'ipadSc_urls.num', 'lang.num', 'vpp_lic']\n"
     ]
    }
   ],
   "source": [
    "explore_data(ios, 1, 5, True)\n",
    "print(ios_header)"
   ]
  },
  {
   "cell_type": "markdown",
   "metadata": {},
   "source": [
    "#### <center> iOS Apps Column Description\n",
    "\n",
    "| Column Name  | Description  | \n",
    "| :---|---:|\n",
    "|'id'   |App ID   |\n",
    "| 'track_name'  |Application Name   |\n",
    "| 'size_bytes'  |Memory size (in Bytes)   |\n",
    "|'currency   | Currency Type  |\n",
    "|'price   | Price Amount  |\n",
    "| 'rating_count_tot'  | User Rating counts (for all version)   |\n",
    "| 'rating_count_ver'  | User Rating counts (for current version) |\n",
    "|'user_rating'   | Average User Rating (for all version)   |\n",
    "| 'user_rating_ver'|Average User Rating value (for current version)|\n",
    "| 'ver'  | Latest version code  |\n",
    "|'cont_rating'   | Content Rating   |\n",
    "| 'prime_genre'  | Primary Genre  |\n",
    "| 'sup_devices.num'  | Number of supporting devices   |\n",
    "|'ipadSc_urls.num'   | Number of screenshots showed for display  |\n",
    "| 'lang.num'  | Number of supported languages   |\n",
    "|'vpp_lic'   | Vpp Device Based Licensing Enabled   |\n",
    "\n",
    "<center> Source: https://www.kaggle.com/datasets/ramamet4/app-store-apple-data-set-10k-apps"
   ]
  },
  {
   "cell_type": "markdown",
   "metadata": {},
   "source": [
    "This dataset includes 7,197 iOS apps. The columns that appear to be most useful are 'track_name', 'currency', 'price', 'rating_count_tot', 'rating_count_ver', and 'prime_genre'."
   ]
  },
  {
   "cell_type": "code",
   "execution_count": 4,
   "metadata": {},
   "outputs": [
    {
     "name": "stdout",
     "output_type": "stream",
     "text": [
      "['Coloring book moana', 'ART_AND_DESIGN', '3.9', '967', '14M', '500,000+', 'Free', '0', 'Everyone', 'Art & Design;Pretend Play', 'January 15, 2018', '2.0.0', '4.0.3 and up']\n",
      "\n",
      "\n",
      "['U Launcher Lite – FREE Live Cool Themes, Hide Apps', 'ART_AND_DESIGN', '4.7', '87510', '8.7M', '5,000,000+', 'Free', '0', 'Everyone', 'Art & Design', 'August 1, 2018', '1.2.4', '4.0.3 and up']\n",
      "\n",
      "\n",
      "['Sketch - Draw & Paint', 'ART_AND_DESIGN', '4.5', '215644', '25M', '50,000,000+', 'Free', '0', 'Teen', 'Art & Design', 'June 8, 2018', 'Varies with device', '4.2 and up']\n",
      "\n",
      "\n",
      "['Pixel Draw - Number Art Coloring Book', 'ART_AND_DESIGN', '4.3', '967', '2.8M', '100,000+', 'Free', '0', 'Everyone', 'Art & Design;Creativity', 'June 20, 2018', '1.1', '4.4 and up']\n",
      "\n",
      "\n",
      "Number of rows: 10841\n",
      "Number of columns: 13\n",
      "['App', 'Category', 'Rating', 'Reviews', 'Size', 'Installs', 'Type', 'Price', 'Content Rating', 'Genres', 'Last Updated', 'Current Ver', 'Android Ver']\n"
     ]
    }
   ],
   "source": [
    "explore_data(android, 1, 5, True)\n",
    "print(android_header)"
   ]
  },
  {
   "cell_type": "markdown",
   "metadata": {},
   "source": [
    "#### <center> Android Apps Column Description\n",
    "    \n",
    "| Column Name  | Description  | \n",
    "|:---|---:|\n",
    "|'App'   |Application Name   |\n",
    "|'Category'   |Category the app belongs to   |\n",
    "| 'Rating'  | Overall user rating of the app (as when scraped)  |\n",
    "|'Reviews'   |Number of user reviews (as when scraped)   |\n",
    "|'Size'   | Size of the app (as when scraped)  |\n",
    "|'Installs'   |Number of user downloads/installs for the app (as when scraped)   |\n",
    "|'Type'   | Paid or Free  |\n",
    "| 'Price'  |Price of the app (as when scraped)   |\n",
    "|'Content Rating'   |Age group the app is target at - Children/ Mature 21+/ Adult   |\n",
    "|'Genres'   |An app can belong to multipe genres (apart from its main category)   |\n",
    "|'Last Updated'   |  N/A |\n",
    "|'Current Ver'   | N/A  |\n",
    "| 'Android Ver'  | N/A  |\n",
    "    \n",
    "<center> Source: https://www.kaggle.com/datasets/lava18/google-play-store-apps  "
   ]
  },
  {
   "cell_type": "markdown",
   "metadata": {},
   "source": [
    "The Google Play dataset contains 10,841 apps and 13 columns. The most relevant columns for our analysis appear to be 'App', 'Category', 'Reviews', 'Installs', 'Type', 'Price', and 'Genres'."
   ]
  },
  {
   "cell_type": "markdown",
   "metadata": {},
   "source": [
    "#### Wrong Data"
   ]
  },
  {
   "cell_type": "code",
   "execution_count": 5,
   "metadata": {},
   "outputs": [
    {
     "data": {
      "text/plain": [
       "10841"
      ]
     },
     "execution_count": 5,
     "metadata": {},
     "output_type": "execute_result"
    }
   ],
   "source": [
    "len(android)"
   ]
  },
  {
   "cell_type": "code",
   "execution_count": 6,
   "metadata": {},
   "outputs": [
    {
     "name": "stdout",
     "output_type": "stream",
     "text": [
      "['App', 'Category', 'Rating', 'Reviews', 'Size', 'Installs', 'Type', 'Price', 'Content Rating', 'Genres', 'Last Updated', 'Current Ver', 'Android Ver']\n",
      "['Life Made WI-Fi Touchscreen Photo Frame', '1.9', '19', '3.0M', '1,000+', 'Free', '0', 'Everyone', '', 'February 11, 2018', '1.0.19', '4.0 and up']\n"
     ]
    },
    {
     "data": {
      "text/plain": [
       "10840"
      ]
     },
     "execution_count": 6,
     "metadata": {},
     "output_type": "execute_result"
    }
   ],
   "source": [
    "#Wrong Data\n",
    "print(android_header)\n",
    "print(android[10472])\n",
    "\n",
    "#Deleting the wrong data\n",
    "del android[10472]\n",
    "len(android)"
   ]
  },
  {
   "cell_type": "markdown",
   "metadata": {},
   "source": [
    "#### Duplicate Data"
   ]
  },
  {
   "cell_type": "code",
   "execution_count": 7,
   "metadata": {},
   "outputs": [
    {
     "name": "stdout",
     "output_type": "stream",
     "text": [
      "Number of duplicate android apps: 1181\n",
      "\n",
      "\n",
      "Examples of duplicate android apps: ['Quick PDF Scanner + OCR FREE', 'Box', 'Google My Business', 'ZOOM Cloud Meetings', 'join.me - Simple Meetings', 'Box', 'Zenefits', 'Google Ads', 'Google My Business', 'Slack']\n"
     ]
    }
   ],
   "source": [
    "duplicate_android_apps = []\n",
    "unique_android_apps = []\n",
    "\n",
    "for app in android:\n",
    "    name = app[0]\n",
    "    if name in unique_android_apps:\n",
    "        duplicate_android_apps.append(name)\n",
    "    else:\n",
    "        unique_android_apps.append(name)\n",
    "\n",
    "print('Number of duplicate android apps:', len(duplicate_android_apps))\n",
    "print('\\n')\n",
    "print('Examples of duplicate android apps:', duplicate_android_apps[:10])"
   ]
  },
  {
   "cell_type": "code",
   "execution_count": 8,
   "metadata": {},
   "outputs": [
    {
     "name": "stdout",
     "output_type": "stream",
     "text": [
      "Number of duplicate ios apps: 0\n",
      "\n",
      "\n",
      "Examples of duplicate ios apps: []\n"
     ]
    }
   ],
   "source": [
    "duplicate_ios_apps = []\n",
    "unique_ios_apps = []\n",
    "\n",
    "for app in ios:\n",
    "    name = app[0]\n",
    "    if name in unique_ios_apps:\n",
    "        duplicate_ios_apps.append(name)\n",
    "    else:\n",
    "        unique_ios_apps.append(name)\n",
    "\n",
    "print('Number of duplicate ios apps:', len(duplicate_ios_apps))\n",
    "print('\\n')\n",
    "print('Examples of duplicate ios apps:', duplicate_ios_apps[:10])"
   ]
  },
  {
   "cell_type": "markdown",
   "metadata": {},
   "source": [
    "The dataset shows that there are 1,181 duplicate Android apps, such as 'Quick PDF Scanner + OCR FREE', 'Google My Business', and 'ZOOM Cloud Meetings'. On the other hand, the iOS dataset has no duplicate apps"
   ]
  },
  {
   "cell_type": "code",
   "execution_count": 9,
   "metadata": {},
   "outputs": [
    {
     "data": {
      "text/plain": [
       "9659"
      ]
     },
     "execution_count": 9,
     "metadata": {},
     "output_type": "execute_result"
    }
   ],
   "source": [
    "#Removing duplicates\n",
    "reviews_max = {}\n",
    "for element in android:\n",
    "    name = element[0]\n",
    "    n_reviews = float(element[3])\n",
    "    if name in reviews_max and reviews_max[name] < n_reviews:\n",
    "        reviews_max[name] = n_reviews\n",
    "    elif name not in reviews_max:\n",
    "        reviews_max[name] = n_reviews\n",
    "\n",
    "len(reviews_max)"
   ]
  },
  {
   "cell_type": "code",
   "execution_count": 10,
   "metadata": {},
   "outputs": [
    {
     "name": "stdout",
     "output_type": "stream",
     "text": [
      "[['Photo Editor & Candy Camera & Grid & ScrapBook', 'ART_AND_DESIGN', '4.1', '159', '19M', '10,000+', 'Free', '0', 'Everyone', 'Art & Design', 'January 7, 2018', '1.0.0', '4.0.3 and up'], ['U Launcher Lite – FREE Live Cool Themes, Hide Apps', 'ART_AND_DESIGN', '4.7', '87510', '8.7M', '5,000,000+', 'Free', '0', 'Everyone', 'Art & Design', 'August 1, 2018', '1.2.4', '4.0.3 and up'], ['Sketch - Draw & Paint', 'ART_AND_DESIGN', '4.5', '215644', '25M', '50,000,000+', 'Free', '0', 'Teen', 'Art & Design', 'June 8, 2018', 'Varies with device', '4.2 and up'], ['Pixel Draw - Number Art Coloring Book', 'ART_AND_DESIGN', '4.3', '967', '2.8M', '100,000+', 'Free', '0', 'Everyone', 'Art & Design;Creativity', 'June 20, 2018', '1.1', '4.4 and up']]\n",
      "\n",
      "\n",
      "['Photo Editor & Candy Camera & Grid & ScrapBook', 'U Launcher Lite – FREE Live Cool Themes, Hide Apps', 'Sketch - Draw & Paint', 'Pixel Draw - Number Art Coloring Book']\n"
     ]
    }
   ],
   "source": [
    "android_clean = []\n",
    "already_added = []\n",
    "for app in android:\n",
    "    name = app[0]\n",
    "    n_reviews = float(app[3])\n",
    "    if (reviews_max[name] == n_reviews) and (name not in already_added):\n",
    "        android_clean.append(app)\n",
    "        already_added.append(name)\n",
    "\n",
    "print(android_clean[0:4])\n",
    "print('\\n')\n",
    "print(already_added[0:4])"
   ]
  },
  {
   "cell_type": "code",
   "execution_count": 11,
   "metadata": {},
   "outputs": [
    {
     "data": {
      "text/plain": [
       "9659"
      ]
     },
     "execution_count": 11,
     "metadata": {},
     "output_type": "execute_result"
    }
   ],
   "source": [
    "len(android_clean)"
   ]
  },
  {
   "cell_type": "markdown",
   "metadata": {},
   "source": [
    "#### Addressing Non English Apps\n",
    "\n",
    "In this project, the goal is to focus on analyzing apps intended for an English-speaking audience. Since we're only interested in apps that are relevant to this audience, it's important to filter out any non-English apps from the datasets. One way to do this is by checking the app names for characters that aren't commonly used in English. In English, characters typically fall within a certain range in the ASCII system, from 0 to 127. If an app name contains characters outside this range, it likely means the app isn't designed for English speakers. We'll use this method to identify and remove non-English apps, ensuring that our analysis stays focused on the target audience."
   ]
  },
  {
   "cell_type": "code",
   "execution_count": 12,
   "metadata": {},
   "outputs": [
    {
     "name": "stdout",
     "output_type": "stream",
     "text": [
      "False\n",
      "The ord value for 😜 in Instachat 😜 is: 128540\n",
      "True\n",
      "False\n"
     ]
    }
   ],
   "source": [
    "def character_id_test(string):\n",
    "    for character in string:\n",
    "        if ord(character) > 127:\n",
    "            return False\n",
    "    return True\n",
    "\n",
    "##test\n",
    "print(character_id_test('Instachat 😜'))\n",
    "print(\"The ord value for 😜 in Instachat 😜 is:\", ord('😜'))\n",
    "print(character_id_test('Instagram'))\n",
    "print(character_id_test('Docs To Go™'))"
   ]
  },
  {
   "cell_type": "markdown",
   "metadata": {},
   "source": [
    "The function initially designed to detect non-English app names ran into issues when it mislabeled some English apps, like 'Docs To Go™ Free Office Suite' and 'Instachat 😜,' as non-English. This happened because special characters like ™ and emojis are outside the standard ASCII range, leading the function to mistakenly exclude these apps. To avoid losing valuable data, the function was adjusted so that it only removes apps if their names contain more than three characters outside the ASCII range. This way, English apps with a few special characters or emojis are still correctly recognized as English."
   ]
  },
  {
   "cell_type": "code",
   "execution_count": 13,
   "metadata": {},
   "outputs": [
    {
     "name": "stdout",
     "output_type": "stream",
     "text": [
      "True\n",
      "True\n",
      "True\n"
     ]
    }
   ],
   "source": [
    "#Change the character_id_test function\n",
    "def character_id(string):\n",
    "    non_ascii = 0\n",
    "    for character in string:\n",
    "        if ord(character) > 127:\n",
    "            non_ascii += 1\n",
    "    if non_ascii > 3:\n",
    "        return False\n",
    "    else:\n",
    "        return True\n",
    "\n",
    "##test\n",
    "print(character_id('Instachat 😜'))\n",
    "print(character_id('Instagram'))\n",
    "print(character_id('Docs To Go™'))"
   ]
  },
  {
   "cell_type": "code",
   "execution_count": 14,
   "metadata": {},
   "outputs": [
    {
     "name": "stdout",
     "output_type": "stream",
     "text": [
      "Cleaned Android Data For Apps With English Names:\n",
      "[['Photo Editor & Candy Camera & Grid & ScrapBook', 'ART_AND_DESIGN', '4.1', '159', '19M', '10,000+', 'Free', '0', 'Everyone', 'Art & Design', 'January 7, 2018', '1.0.0', '4.0.3 and up'], ['U Launcher Lite – FREE Live Cool Themes, Hide Apps', 'ART_AND_DESIGN', '4.7', '87510', '8.7M', '5,000,000+', 'Free', '0', 'Everyone', 'Art & Design', 'August 1, 2018', '1.2.4', '4.0.3 and up'], ['Sketch - Draw & Paint', 'ART_AND_DESIGN', '4.5', '215644', '25M', '50,000,000+', 'Free', '0', 'Teen', 'Art & Design', 'June 8, 2018', 'Varies with device', '4.2 and up'], ['Pixel Draw - Number Art Coloring Book', 'ART_AND_DESIGN', '4.3', '967', '2.8M', '100,000+', 'Free', '0', 'Everyone', 'Art & Design;Creativity', 'June 20, 2018', '1.1', '4.4 and up'], ['Paper flowers instructions', 'ART_AND_DESIGN', '4.4', '167', '5.6M', '50,000+', 'Free', '0', 'Everyone', 'Art & Design', 'March 26, 2017', '1.0', '2.3 and up']]\n",
      "\n",
      "\n",
      "Cleaned IOS Data For Apps With English Names:\n",
      "[['284882215', 'Facebook', '389879808', 'USD', '0.0', '2974676', '212', '3.5', '3.5', '95.0', '4+', 'Social Networking', '37', '1', '29', '1'], ['389801252', 'Instagram', '113954816', 'USD', '0.0', '2161558', '1289', '4.5', '4.0', '10.23', '12+', 'Photo & Video', '37', '0', '29', '1'], ['529479190', 'Clash of Clans', '116476928', 'USD', '0.0', '2130805', '579', '4.5', '4.5', '9.24.12', '9+', 'Games', '38', '5', '18', '1'], ['420009108', 'Temple Run', '65921024', 'USD', '0.0', '1724546', '3842', '4.5', '4.0', '1.6.2', '9+', 'Games', '40', '5', '1', '1'], ['284035177', 'Pandora - Music & Radio', '130242560', 'USD', '0.0', '1126879', '3594', '4.0', '4.5', '8.4.1', '12+', 'Music', '37', '4', '1', '1']]\n"
     ]
    }
   ],
   "source": [
    "##Now that the function to identify apps with English names, it can be used on the datasets\n",
    "\n",
    "android_en = []\n",
    "ios_en = []\n",
    "\n",
    "for app in android_clean:\n",
    "    name = app[0]\n",
    "    if character_id(name):\n",
    "        android_en.append(app)\n",
    "\n",
    "for app in ios:\n",
    "    name = app[1]\n",
    "    if character_id(name):\n",
    "        ios_en.append(app)\n",
    "\n",
    "print(\"Cleaned Android Data For Apps With English Names:\")\n",
    "print(android_en[0:5])\n",
    "print('\\n')\n",
    "print(\"Cleaned IOS Data For Apps With English Names:\")\n",
    "print(ios_en[0:5])"
   ]
  },
  {
   "cell_type": "markdown",
   "metadata": {},
   "source": [
    "#### Identifying Free Apps\n",
    "\n",
    "Since the company focuses on building free apps with revenue generated from in-app ads, the analysis will require isolating only the free apps from the datasets, as they currently include both free and paid apps."
   ]
  },
  {
   "cell_type": "code",
   "execution_count": 15,
   "metadata": {},
   "outputs": [
    {
     "name": "stdout",
     "output_type": "stream",
     "text": [
      "Final Cleaned Android App Data:\n",
      "['U Launcher Lite – FREE Live Cool Themes, Hide Apps', 'ART_AND_DESIGN', '4.7', '87510', '8.7M', '5,000,000+', 'Free', '0', 'Everyone', 'Art & Design', 'August 1, 2018', '1.2.4', '4.0.3 and up']\n",
      "\n",
      "\n",
      "['Sketch - Draw & Paint', 'ART_AND_DESIGN', '4.5', '215644', '25M', '50,000,000+', 'Free', '0', 'Teen', 'Art & Design', 'June 8, 2018', 'Varies with device', '4.2 and up']\n",
      "\n",
      "\n",
      "['Pixel Draw - Number Art Coloring Book', 'ART_AND_DESIGN', '4.3', '967', '2.8M', '100,000+', 'Free', '0', 'Everyone', 'Art & Design;Creativity', 'June 20, 2018', '1.1', '4.4 and up']\n",
      "\n",
      "\n",
      "['Paper flowers instructions', 'ART_AND_DESIGN', '4.4', '167', '5.6M', '50,000+', 'Free', '0', 'Everyone', 'Art & Design', 'March 26, 2017', '1.0', '2.3 and up']\n",
      "\n",
      "\n",
      "Number of rows: 8864\n",
      "Number of columns: 13\n",
      "\n",
      "\n",
      "Final Cleaned iOS App Data:\n",
      "['389801252', 'Instagram', '113954816', 'USD', '0.0', '2161558', '1289', '4.5', '4.0', '10.23', '12+', 'Photo & Video', '37', '0', '29', '1']\n",
      "\n",
      "\n",
      "['529479190', 'Clash of Clans', '116476928', 'USD', '0.0', '2130805', '579', '4.5', '4.5', '9.24.12', '9+', 'Games', '38', '5', '18', '1']\n",
      "\n",
      "\n",
      "['420009108', 'Temple Run', '65921024', 'USD', '0.0', '1724546', '3842', '4.5', '4.0', '1.6.2', '9+', 'Games', '40', '5', '1', '1']\n",
      "\n",
      "\n",
      "['284035177', 'Pandora - Music & Radio', '130242560', 'USD', '0.0', '1126879', '3594', '4.0', '4.5', '8.4.1', '12+', 'Music', '37', '4', '1', '1']\n",
      "\n",
      "\n",
      "Number of rows: 3222\n",
      "Number of columns: 16\n"
     ]
    }
   ],
   "source": [
    "android_final = []\n",
    "ios_final = []\n",
    "\n",
    "for app in android_en:\n",
    "    name = app[0]\n",
    "    price = app[7]\n",
    "    if price == '0' or price == '0.0':\n",
    "        android_final.append(app)\n",
    "        \n",
    "for app in ios_en:\n",
    "    name = app[1]\n",
    "    price = app[4]\n",
    "    if price == '0' or price == '0.0':\n",
    "        ios_final.append(app)\n",
    "\n",
    "print('Final Cleaned Android App Data:')\n",
    "explore_data(android_final, 1, 5, True)\n",
    "print('\\n')\n",
    "print('Final Cleaned iOS App Data:')\n",
    "explore_data(ios_final, 1, 5, True)"
   ]
  },
  {
   "cell_type": "markdown",
   "metadata": {},
   "source": [
    "### Data Analysis\n",
    "\n",
    "The goal is to figure out which types of apps are most likely to attract a large number of users, as this directly impacts revenue. To keep risks low and costs manageable, the strategy for validating a new app idea involves three steps: \n",
    " - Create a minimal Android version and release it on Google Play\n",
    " - If users respond well, continue developing the app\n",
    " - If the app is profitable after six months, develop an iOS version and release it on the App Store. \n",
    "\n",
    "Since the ultimate goal is to have the app succeed on both platforms, it's important to identify app profiles that perform well in both markets. For example, a productivity app with gamification features might do well on both Google Play and the App Store. To start, the analysis will look at the most common genres in each market by building frequency tables for key columns in the datasets."
   ]
  },
  {
   "cell_type": "markdown",
   "metadata": {},
   "source": [
    "#### Identifying Most Common Genres"
   ]
  },
  {
   "cell_type": "code",
   "execution_count": 16,
   "metadata": {},
   "outputs": [],
   "source": [
    "def freq_table(dataset, index):\n",
    "    frequency_table = {}\n",
    "    for row in dataset:\n",
    "        value = row[index]\n",
    "        if value in frequency_table:\n",
    "            frequency_table[value] += 1\n",
    "        else:\n",
    "            frequency_table[value] = 1\n",
    "    \n",
    "    freq_percentages = {}\n",
    "    for key in frequency_table:\n",
    "        percentage = (frequency_table[key] / sum(frequency_table.values())) * 100\n",
    "        freq_percentages[key] = percentage \n",
    "            \n",
    "    return frequency_table, freq_percentages"
   ]
  },
  {
   "cell_type": "code",
   "execution_count": 17,
   "metadata": {},
   "outputs": [],
   "source": [
    "def display_table(dataset, index):\n",
    "    frequency_table, freq_percentages = freq_table(dataset, index)\n",
    "    table_display = []\n",
    "    for key in freq_percentages:\n",
    "        key_val_as_tuple = (freq_percentages[key], key)\n",
    "        table_display.append(key_val_as_tuple)\n",
    "        \n",
    "    table_sorted = sorted(table_display, reverse = True)\n",
    "    for entry in table_sorted:\n",
    "        print(entry[1], ':', entry[0])"
   ]
  },
  {
   "cell_type": "code",
   "execution_count": 18,
   "metadata": {},
   "outputs": [
    {
     "name": "stdout",
     "output_type": "stream",
     "text": [
      "Frequency Table For iOS 'prime_genre' column:\n",
      "Games : 58.16263190564867\n",
      "Entertainment : 7.883302296710118\n",
      "Photo & Video : 4.9658597144630665\n",
      "Education : 3.662321539416512\n",
      "Social Networking : 3.2898820608317814\n",
      "Shopping : 2.60707635009311\n",
      "Utilities : 2.5139664804469275\n",
      "Sports : 2.1415270018621975\n",
      "Music : 2.0484171322160147\n",
      "Health & Fitness : 2.0173805090006205\n",
      "Productivity : 1.7380509000620732\n",
      "Lifestyle : 1.5828677839851024\n",
      "News : 1.3345747982619491\n",
      "Travel : 1.2414649286157666\n",
      "Finance : 1.1173184357541899\n",
      "Weather : 0.8690254500310366\n",
      "Food & Drink : 0.8069522036002483\n",
      "Reference : 0.5586592178770949\n",
      "Business : 0.5276225946617008\n",
      "Book : 0.4345127250155183\n",
      "Navigation : 0.186219739292365\n",
      "Medical : 0.186219739292365\n",
      "Catalogs : 0.12414649286157665\n"
     ]
    }
   ],
   "source": [
    "print(\"Frequency Table For iOS 'prime_genre' column:\")\n",
    "display_table(ios_final, 11)"
   ]
  },
  {
   "cell_type": "markdown",
   "metadata": {},
   "source": [
    "In the App Store dataset, \"Games\" are by far the most common genre, making up over 58% of all apps. The next most common genre is \"Entertainment,\" but it’s much less frequent at around 8%. This shows that the App Store is largely geared towards entertainment, especially gaming, with fewer apps focused on practical uses like education, shopping, or productivity.\n",
    "\n",
    "Given the heavy focus on games, it might seem like a good idea to develop a gaming app for the App Store. However, the high number of games also means a lot of competition, which could make it hard for new apps to gain traction. Just because a genre has a lot of apps doesn’t necessarily mean that every app in that genre will attract a lot of users."
   ]
  },
  {
   "cell_type": "code",
   "execution_count": 19,
   "metadata": {},
   "outputs": [
    {
     "name": "stdout",
     "output_type": "stream",
     "text": [
      "Frequency Table For Android 'Category' column:\n",
      "FAMILY : 18.907942238267147\n",
      "GAME : 9.724729241877256\n",
      "TOOLS : 8.461191335740072\n",
      "BUSINESS : 4.591606498194946\n",
      "LIFESTYLE : 3.9034296028880866\n",
      "PRODUCTIVITY : 3.892148014440433\n",
      "FINANCE : 3.7003610108303246\n",
      "MEDICAL : 3.531137184115524\n",
      "SPORTS : 3.395758122743682\n",
      "PERSONALIZATION : 3.3167870036101084\n",
      "COMMUNICATION : 3.2378158844765346\n",
      "HEALTH_AND_FITNESS : 3.0798736462093865\n",
      "PHOTOGRAPHY : 2.944494584837545\n",
      "NEWS_AND_MAGAZINES : 2.7978339350180503\n",
      "SOCIAL : 2.6624548736462095\n",
      "TRAVEL_AND_LOCAL : 2.33528880866426\n",
      "SHOPPING : 2.2450361010830324\n",
      "BOOKS_AND_REFERENCE : 2.1435018050541514\n",
      "DATING : 1.861462093862816\n",
      "VIDEO_PLAYERS : 1.7937725631768955\n",
      "MAPS_AND_NAVIGATION : 1.3989169675090252\n",
      "FOOD_AND_DRINK : 1.2409747292418771\n",
      "EDUCATION : 1.1620036101083033\n",
      "ENTERTAINMENT : 0.9589350180505415\n",
      "LIBRARIES_AND_DEMO : 0.9363718411552346\n",
      "AUTO_AND_VEHICLES : 0.9250902527075812\n",
      "HOUSE_AND_HOME : 0.8235559566787004\n",
      "WEATHER : 0.8009927797833934\n",
      "EVENTS : 0.7107400722021661\n",
      "PARENTING : 0.6543321299638989\n",
      "ART_AND_DESIGN : 0.6430505415162455\n",
      "COMICS : 0.6204873646209386\n",
      "BEAUTY : 0.5979241877256317\n",
      "Frequency Table For Android 'Genres' column:\n",
      "Tools : 8.449909747292418\n",
      "Entertainment : 6.069494584837545\n",
      "Education : 5.347472924187725\n",
      "Business : 4.591606498194946\n",
      "Productivity : 3.892148014440433\n",
      "Lifestyle : 3.892148014440433\n",
      "Finance : 3.7003610108303246\n",
      "Medical : 3.531137184115524\n",
      "Sports : 3.463447653429603\n",
      "Personalization : 3.3167870036101084\n",
      "Communication : 3.2378158844765346\n",
      "Action : 3.1024368231046933\n",
      "Health & Fitness : 3.0798736462093865\n",
      "Photography : 2.944494584837545\n",
      "News & Magazines : 2.7978339350180503\n",
      "Social : 2.6624548736462095\n",
      "Travel & Local : 2.3240072202166067\n",
      "Shopping : 2.2450361010830324\n",
      "Books & Reference : 2.1435018050541514\n",
      "Simulation : 2.0419675090252705\n",
      "Dating : 1.861462093862816\n",
      "Arcade : 1.8501805054151623\n",
      "Video Players & Editors : 1.7712093862815883\n",
      "Casual : 1.7599277978339352\n",
      "Maps & Navigation : 1.3989169675090252\n",
      "Food & Drink : 1.2409747292418771\n",
      "Puzzle : 1.128158844765343\n",
      "Racing : 0.9927797833935018\n",
      "Role Playing : 0.9363718411552346\n",
      "Libraries & Demo : 0.9363718411552346\n",
      "Auto & Vehicles : 0.9250902527075812\n",
      "Strategy : 0.9138086642599278\n",
      "House & Home : 0.8235559566787004\n",
      "Weather : 0.8009927797833934\n",
      "Events : 0.7107400722021661\n",
      "Adventure : 0.6768953068592057\n",
      "Comics : 0.6092057761732852\n",
      "Beauty : 0.5979241877256317\n",
      "Art & Design : 0.5979241877256317\n",
      "Parenting : 0.4963898916967509\n",
      "Card : 0.45126353790613716\n",
      "Casino : 0.42870036101083037\n",
      "Trivia : 0.41741877256317694\n",
      "Educational;Education : 0.39485559566787\n",
      "Board : 0.3835740072202166\n",
      "Educational : 0.3722924187725632\n",
      "Education;Education : 0.33844765342960287\n",
      "Word : 0.2594765342960289\n",
      "Casual;Pretend Play : 0.236913357400722\n",
      "Music : 0.2030685920577617\n",
      "Racing;Action & Adventure : 0.16922382671480143\n",
      "Puzzle;Brain Games : 0.16922382671480143\n",
      "Entertainment;Music & Video : 0.16922382671480143\n",
      "Casual;Brain Games : 0.13537906137184114\n",
      "Casual;Action & Adventure : 0.13537906137184114\n",
      "Arcade;Action & Adventure : 0.12409747292418773\n",
      "Action;Action & Adventure : 0.10153429602888085\n",
      "Educational;Pretend Play : 0.09025270758122744\n",
      "Simulation;Action & Adventure : 0.078971119133574\n",
      "Parenting;Education : 0.078971119133574\n",
      "Entertainment;Brain Games : 0.078971119133574\n",
      "Board;Brain Games : 0.078971119133574\n",
      "Parenting;Music & Video : 0.06768953068592057\n",
      "Educational;Brain Games : 0.06768953068592057\n",
      "Casual;Creativity : 0.06768953068592057\n",
      "Art & Design;Creativity : 0.06768953068592057\n",
      "Education;Pretend Play : 0.056407942238267145\n",
      "Role Playing;Pretend Play : 0.04512635379061372\n",
      "Education;Creativity : 0.04512635379061372\n",
      "Role Playing;Action & Adventure : 0.033844765342960284\n",
      "Puzzle;Action & Adventure : 0.033844765342960284\n",
      "Entertainment;Creativity : 0.033844765342960284\n",
      "Entertainment;Action & Adventure : 0.033844765342960284\n",
      "Educational;Creativity : 0.033844765342960284\n",
      "Educational;Action & Adventure : 0.033844765342960284\n",
      "Education;Music & Video : 0.033844765342960284\n",
      "Education;Brain Games : 0.033844765342960284\n",
      "Education;Action & Adventure : 0.033844765342960284\n",
      "Adventure;Action & Adventure : 0.033844765342960284\n",
      "Video Players & Editors;Music & Video : 0.02256317689530686\n",
      "Sports;Action & Adventure : 0.02256317689530686\n",
      "Simulation;Pretend Play : 0.02256317689530686\n",
      "Puzzle;Creativity : 0.02256317689530686\n",
      "Music;Music & Video : 0.02256317689530686\n",
      "Entertainment;Pretend Play : 0.02256317689530686\n",
      "Casual;Education : 0.02256317689530686\n",
      "Board;Action & Adventure : 0.02256317689530686\n",
      "Video Players & Editors;Creativity : 0.01128158844765343\n",
      "Trivia;Education : 0.01128158844765343\n",
      "Travel & Local;Action & Adventure : 0.01128158844765343\n",
      "Tools;Education : 0.01128158844765343\n",
      "Strategy;Education : 0.01128158844765343\n",
      "Strategy;Creativity : 0.01128158844765343\n",
      "Strategy;Action & Adventure : 0.01128158844765343\n",
      "Simulation;Education : 0.01128158844765343\n",
      "Role Playing;Brain Games : 0.01128158844765343\n",
      "Racing;Pretend Play : 0.01128158844765343\n",
      "Puzzle;Education : 0.01128158844765343\n",
      "Parenting;Brain Games : 0.01128158844765343\n",
      "Music & Audio;Music & Video : 0.01128158844765343\n",
      "Lifestyle;Pretend Play : 0.01128158844765343\n",
      "Lifestyle;Education : 0.01128158844765343\n",
      "Health & Fitness;Education : 0.01128158844765343\n",
      "Health & Fitness;Action & Adventure : 0.01128158844765343\n",
      "Entertainment;Education : 0.01128158844765343\n",
      "Communication;Creativity : 0.01128158844765343\n",
      "Comics;Creativity : 0.01128158844765343\n",
      "Casual;Music & Video : 0.01128158844765343\n",
      "Card;Action & Adventure : 0.01128158844765343\n",
      "Books & Reference;Education : 0.01128158844765343\n",
      "Art & Design;Pretend Play : 0.01128158844765343\n",
      "Art & Design;Action & Adventure : 0.01128158844765343\n",
      "Arcade;Pretend Play : 0.01128158844765343\n",
      "Adventure;Education : 0.01128158844765343\n"
     ]
    }
   ],
   "source": [
    "print(\"Frequency Table For Android 'Category' column:\")\n",
    "display_table(android_final, 1)\n",
    "\n",
    "print(\"Frequency Table For Android 'Genres' column:\")\n",
    "display_table(android_final, 9)"
   ]
  },
  {
   "cell_type": "markdown",
   "metadata": {},
   "source": [
    "In the Google Play data, the most common categories are \"Family\" and \"Games,\" with \"Tools\" also being significant. The Genres column reflects this diversity, showing a mix of practical and entertainment apps, such as tools, entertainment, and education. Compared to the App Store, Google Play has a wider range of app types, with a balance between practical and entertainment-focused apps. This suggests that the Android market offers more opportunities in different areas beyond just games, including tools and business apps.\n",
    "\n",
    "When comparing the Genres and Category columns in the Google Play data, the patterns align, with both highlighting a variety of app types available. Unlike the App Store, where entertainment dominates, Google Play has a more even mix. Based on this, focusing on a utility or productivity app for Google Play could be a good strategy, as these areas seem less crowded compared to games on the App Store. However, it’s important to note that these frequency tables show the most common genres, not necessarily the ones with the most users, so further analysis would be needed to find out which genres actually attract the largest audiences."
   ]
  },
  {
   "cell_type": "markdown",
   "metadata": {},
   "source": [
    "#### Identifying Apps With Most Users\n",
    "\n",
    "The frequency tables showed that the App Store is mostly filled with fun apps, while Google Play has a more balanced mix of practical and entertainment apps. Now, to figure out which types of apps have the most users, we’ll calculate the average number of installs for each genre. For Google Play, we can use the Installs column, but since the App Store data doesn’t include install numbers, we’ll use the total number of user ratings as a stand-in for popularity."
   ]
  },
  {
   "cell_type": "markdown",
   "metadata": {},
   "source": [
    "##### Most Popular Apps By Genre on iOS (using average number of user rating)"
   ]
  },
  {
   "cell_type": "code",
   "execution_count": 20,
   "metadata": {},
   "outputs": [
    {
     "name": "stdout",
     "output_type": "stream",
     "text": [
      "Social Networking : 71548.34905660378\n",
      "Photo & Video : 28441.54375\n",
      "Games : 22788.6696905016\n",
      "Music : 57326.530303030304\n",
      "Reference : 74942.11111111111\n",
      "Health & Fitness : 23298.015384615384\n",
      "Weather : 52279.892857142855\n",
      "Utilities : 18684.456790123455\n",
      "Travel : 28243.8\n",
      "Shopping : 26919.690476190477\n",
      "News : 21248.023255813954\n",
      "Navigation : 86090.33333333333\n",
      "Lifestyle : 16485.764705882353\n",
      "Entertainment : 14029.830708661417\n",
      "Food & Drink : 33333.92307692308\n",
      "Sports : 23008.898550724636\n",
      "Book : 39758.5\n",
      "Finance : 31467.944444444445\n",
      "Education : 7003.983050847458\n",
      "Productivity : 21028.410714285714\n",
      "Business : 7491.117647058823\n",
      "Catalogs : 4004.0\n",
      "Medical : 612.0\n"
     ]
    }
   ],
   "source": [
    "frequency_table, freq_percentages = freq_table(ios_final, 11)\n",
    "for genre in freq_percentages:\n",
    "    total = 0\n",
    "    len_genre = 0\n",
    "    for app in ios_final:\n",
    "        genre_app = app[11]\n",
    "        if genre_app == genre:\n",
    "            ratings = float(app[5])\n",
    "            total += ratings\n",
    "            len_genre += 1\n",
    "    avg_rating = total/len_genre\n",
    "    print(genre,':',avg_rating)"
   ]
  },
  {
   "cell_type": "markdown",
   "metadata": {},
   "source": [
    "The results show that Navigation, Reference, and Social Networking apps have the highest average number of user ratings with 86,090, and 74,942 and 71,548 respectively. \n",
    "\n",
    "This suggests that users tend to engage more with apps in these categories, likely because they’re useful in everyday life. Social networking apps are popular because they help people stay connected, while Reference apps are handy for quick information. Navigation apps are essential for travel and getting around, which explains why they’re so frequently used and rated.\n",
    "\n",
    "For developers, this information is helpful in identifying which types of apps are most likely to attract a large number of users. If the goal is to develop an app that will have high user interaction, focusing on these genres might be a good strategy. However, it’s also worth noting that high ratings could mean there’s a lot of competition in these areas."
   ]
  },
  {
   "cell_type": "code",
   "execution_count": 21,
   "metadata": {},
   "outputs": [
    {
     "name": "stdout",
     "output_type": "stream",
     "text": [
      "Waze - GPS Navigation, Maps & Real-time Traffic : 345046\n",
      "Google Maps - Navigation & Transit : 154911\n",
      "Geocaching® : 12811\n",
      "CoPilot GPS – Car Navigation & Offline Maps : 3582\n",
      "ImmobilienScout24: Real Estate Search in Germany : 187\n",
      "Railway Route Search : 5\n"
     ]
    }
   ],
   "source": [
    "for app in ios_final:\n",
    "    if app[11] == 'Navigation':\n",
    "        print(app[1], ':', app[5]) # print name and number of ratings"
   ]
  },
  {
   "cell_type": "code",
   "execution_count": 22,
   "metadata": {},
   "outputs": [
    {
     "name": "stdout",
     "output_type": "stream",
     "text": [
      "Facebook : 2974676\n",
      "Pinterest : 1061624\n",
      "Skype for iPhone : 373519\n",
      "Messenger : 351466\n",
      "Tumblr : 334293\n",
      "WhatsApp Messenger : 287589\n",
      "Kik : 260965\n",
      "ooVoo – Free Video Call, Text and Voice : 177501\n",
      "TextNow - Unlimited Text + Calls : 164963\n",
      "Viber Messenger – Text & Call : 164249\n",
      "Followers - Social Analytics For Instagram : 112778\n",
      "MeetMe - Chat and Meet New People : 97072\n",
      "We Heart It - Fashion, wallpapers, quotes, tattoos : 90414\n",
      "InsTrack for Instagram - Analytics Plus More : 85535\n",
      "Tango - Free Video Call, Voice and Chat : 75412\n",
      "LinkedIn : 71856\n",
      "Match™ - #1 Dating App. : 60659\n",
      "Skype for iPad : 60163\n",
      "POF - Best Dating App for Conversations : 52642\n",
      "Timehop : 49510\n",
      "Find My Family, Friends & iPhone - Life360 Locator : 43877\n",
      "Whisper - Share, Express, Meet : 39819\n",
      "Hangouts : 36404\n",
      "LINE PLAY - Your Avatar World : 34677\n",
      "WeChat : 34584\n",
      "Badoo - Meet New People, Chat, Socialize. : 34428\n",
      "Followers + for Instagram - Follower Analytics : 28633\n",
      "GroupMe : 28260\n",
      "Marco Polo Video Walkie Talkie : 27662\n",
      "Miitomo : 23965\n",
      "SimSimi : 23530\n",
      "Grindr - Gay and same sex guys chat, meet and date : 23201\n",
      "Wishbone - Compare Anything : 20649\n",
      "imo video calls and chat : 18841\n",
      "After School - Funny Anonymous School News : 18482\n",
      "Quick Reposter - Repost, Regram and Reshare Photos : 17694\n",
      "Weibo HD : 16772\n",
      "Repost for Instagram : 15185\n",
      "Live.me – Live Video Chat & Make Friends Nearby : 14724\n",
      "Nextdoor : 14402\n",
      "Followers Analytics for Instagram - InstaReport : 13914\n",
      "YouNow: Live Stream Video Chat : 12079\n",
      "FollowMeter for Instagram - Followers Tracking : 11976\n",
      "LINE : 11437\n",
      "eHarmony™ Dating App - Meet Singles : 11124\n",
      "Discord - Chat for Gamers : 9152\n",
      "QQ : 9109\n",
      "Telegram Messenger : 7573\n",
      "Weibo : 7265\n",
      "Periscope - Live Video Streaming Around the World : 6062\n",
      "Chat for Whatsapp - iPad Version : 5060\n",
      "QQ HD : 5058\n",
      "Followers Analysis Tool For Instagram App Free : 4253\n",
      "live.ly - live video streaming : 4145\n",
      "Houseparty - Group Video Chat : 3991\n",
      "SOMA Messenger : 3232\n",
      "Monkey : 3060\n",
      "Down To Lunch : 2535\n",
      "Flinch - Video Chat Staring Contest : 2134\n",
      "Highrise - Your Avatar Community : 2011\n",
      "LOVOO - Dating Chat : 1985\n",
      "PlayStation®Messages : 1918\n",
      "BOO! - Video chat camera with filters & stickers : 1805\n",
      "Qzone : 1649\n",
      "Chatous - Chat with new people : 1609\n",
      "Kiwi - Q&A : 1538\n",
      "GhostCodes - a discovery app for Snapchat : 1313\n",
      "Jodel : 1193\n",
      "FireChat : 1037\n",
      "Google Duo - simple video calling : 1033\n",
      "Fiesta by Tango - Chat & Meet New People : 885\n",
      "Google Allo — smart messaging : 862\n",
      "Peach — share vividly : 727\n",
      "Hey! VINA - Where Women Meet New Friends : 719\n",
      "Battlefield™ Companion : 689\n",
      "All Devices for WhatsApp - Messenger for iPad : 682\n",
      "Chat for Pokemon Go - GoChat : 500\n",
      "IAmNaughty – Dating App to Meet New People Online : 463\n",
      "Qzone HD : 458\n",
      "Zenly - Locate your friends in realtime : 427\n",
      "League of Legends Friends : 420\n",
      "豆瓣 : 407\n",
      "Candid - Speak Your Mind Freely : 398\n",
      "知乎 : 397\n",
      "Selfeo : 366\n",
      "Fake-A-Location Free ™ : 354\n",
      "Popcorn Buzz - Free Group Calls : 281\n",
      "Fam — Group video calling for iMessage : 279\n",
      "QQ International : 274\n",
      "Ameba : 269\n",
      "SoundCloud Pulse: for creators : 240\n",
      "Tantan : 235\n",
      "Cougar Dating & Life Style App for Mature Women : 213\n",
      "Rawr Messenger - Dab your chat : 180\n",
      "WhenToPost: Best Time to Post Photos for Instagram : 158\n",
      "Inke—Broadcast an amazing life : 147\n",
      "Mustknow - anonymous video Q&A : 53\n",
      "CTFxCmoji : 39\n",
      "Lobi : 36\n",
      "Chain: Collaborate On MyVideo Story/Group Video : 35\n",
      "botman - Real time video chat : 7\n",
      "BestieBox : 0\n",
      "MATCH ON LINE chat : 0\n",
      "niconico ch : 0\n",
      "LINE BLOG : 0\n",
      "bit-tube - Live Stream Video Chat : 0\n"
     ]
    }
   ],
   "source": [
    "for app in ios_final:\n",
    "    if app[11] == 'Social Networking':\n",
    "        print(app[1], ':', app[5])"
   ]
  },
  {
   "cell_type": "code",
   "execution_count": 23,
   "metadata": {
    "scrolled": true
   },
   "outputs": [
    {
     "name": "stdout",
     "output_type": "stream",
     "text": [
      "Bible : 985920\n",
      "Dictionary.com Dictionary & Thesaurus : 200047\n",
      "Dictionary.com Dictionary & Thesaurus for iPad : 54175\n",
      "Google Translate : 26786\n",
      "Muslim Pro: Ramadan 2017 Prayer Times, Azan, Quran : 18418\n",
      "New Furniture Mods - Pocket Wiki & Game Tools for Minecraft PC Edition : 17588\n",
      "Merriam-Webster Dictionary : 16849\n",
      "Night Sky : 12122\n",
      "City Maps for Minecraft PE - The Best Maps for Minecraft Pocket Edition (MCPE) : 8535\n",
      "LUCKY BLOCK MOD ™ for Minecraft PC Edition - The Best Pocket Wiki & Mods Installer Tools : 4693\n",
      "GUNS MODS for Minecraft PC Edition - Mods Tools : 1497\n",
      "Guides for Pokémon GO - Pokemon GO News and Cheats : 826\n",
      "WWDC : 762\n",
      "Horror Maps for Minecraft PE - Download The Scariest Maps for Minecraft Pocket Edition (MCPE) Free : 718\n",
      "VPN Express : 14\n",
      "Real Bike Traffic Rider Virtual Reality Glasses : 8\n",
      "教えて!goo : 0\n",
      "Jishokun-Japanese English Dictionary & Translator : 0\n"
     ]
    }
   ],
   "source": [
    "for app in ios_final:\n",
    "    if app[11] == 'Reference':\n",
    "        print(app[1], ':', app[5])"
   ]
  },
  {
   "cell_type": "markdown",
   "metadata": {},
   "source": [
    "##### Most Popular Apps By Category on Android (using average number of user rating)"
   ]
  },
  {
   "cell_type": "code",
   "execution_count": 24,
   "metadata": {
    "scrolled": true
   },
   "outputs": [
    {
     "name": "stdout",
     "output_type": "stream",
     "text": [
      "1,000,000+ : 15.726534296028879\n",
      "100,000+ : 11.552346570397113\n",
      "10,000,000+ : 10.548285198555957\n",
      "10,000+ : 10.198555956678701\n",
      "1,000+ : 8.393501805054152\n",
      "100+ : 6.915613718411552\n",
      "5,000,000+ : 6.825361010830325\n",
      "500,000+ : 5.561823104693141\n",
      "50,000+ : 4.7721119133574\n",
      "5,000+ : 4.512635379061372\n",
      "10+ : 3.5424187725631766\n",
      "500+ : 3.2490974729241873\n",
      "50,000,000+ : 2.3014440433213\n",
      "100,000,000+ : 2.1322202166064983\n",
      "50+ : 1.917870036101083\n",
      "5+ : 0.78971119133574\n",
      "1+ : 0.5076714801444043\n",
      "500,000,000+ : 0.2707581227436823\n",
      "1,000,000,000+ : 0.22563176895306858\n",
      "0+ : 0.04512635379061372\n",
      "0 : 0.01128158844765343\n"
     ]
    }
   ],
   "source": [
    "display_table(android_final, 5)"
   ]
  },
  {
   "cell_type": "markdown",
   "metadata": {},
   "source": [
    "The app profile recommendation for the App Store was based on user ratings, but for Google Play, the number of installs provides insight into genre popularity. Although the install numbers are not very precise, with many values being open-ended (e.g., 100+, 1,000+, 5,000+), they can still be useful. To identify which genres attract the most users, they'll assume that an app with 100,000+ installs has exactly 100,000 installs, and so on. This method will provide an understanding of which app genres are the most popular on Google Play."
   ]
  },
  {
   "cell_type": "code",
   "execution_count": 25,
   "metadata": {},
   "outputs": [
    {
     "name": "stdout",
     "output_type": "stream",
     "text": [
      "ART_AND_DESIGN : 1986335.0877192982\n",
      "AUTO_AND_VEHICLES : 647317.8170731707\n",
      "BEAUTY : 513151.88679245283\n",
      "BOOKS_AND_REFERENCE : 8767811.894736841\n",
      "BUSINESS : 1712290.1474201474\n",
      "COMICS : 817657.2727272727\n",
      "COMMUNICATION : 38456119.167247385\n",
      "DATING : 854028.8303030303\n",
      "EDUCATION : 1833495.145631068\n",
      "ENTERTAINMENT : 11640705.88235294\n",
      "EVENTS : 253542.22222222222\n",
      "FINANCE : 1387692.475609756\n",
      "FOOD_AND_DRINK : 1924897.7363636363\n",
      "HEALTH_AND_FITNESS : 4188821.9853479853\n",
      "HOUSE_AND_HOME : 1331540.5616438356\n",
      "LIBRARIES_AND_DEMO : 638503.734939759\n",
      "LIFESTYLE : 1437816.2687861272\n",
      "GAME : 15588015.603248259\n",
      "FAMILY : 3695641.8198090694\n",
      "MEDICAL : 120550.61980830671\n",
      "SOCIAL : 23253652.127118643\n",
      "SHOPPING : 7036877.311557789\n",
      "PHOTOGRAPHY : 17840110.40229885\n",
      "SPORTS : 3638640.1428571427\n",
      "TRAVEL_AND_LOCAL : 13984077.710144928\n",
      "TOOLS : 10801391.298666667\n",
      "PERSONALIZATION : 5201482.6122448975\n",
      "PRODUCTIVITY : 16787331.344927534\n",
      "PARENTING : 542603.6206896552\n",
      "WEATHER : 5074486.197183099\n",
      "VIDEO_PLAYERS : 24727872.452830188\n",
      "NEWS_AND_MAGAZINES : 9549178.467741935\n",
      "MAPS_AND_NAVIGATION : 4056941.7741935486\n"
     ]
    }
   ],
   "source": [
    "frequency_table, freq_percentages = freq_table(android_final, 1)\n",
    "for category in freq_percentages:\n",
    "    total = 0\n",
    "    len_category = 0\n",
    "    for app in android_final:\n",
    "        category_app = app[1]\n",
    "        if category_app == category:\n",
    "            installs = app[5]\n",
    "            installs = installs.replace(',', '')\n",
    "            installs = installs.replace('+', '')\n",
    "            total += float(installs)\n",
    "            len_category += 1\n",
    "    avg_installs = total/len_category\n",
    "    print(category,':',avg_installs)"
   ]
  },
  {
   "cell_type": "markdown",
   "metadata": {},
   "source": [
    "The analysis of average installs for different app categories on Google Play highlights some interesting patterns in user interest. \"Communication,\" \"Video Players,\" and \"Social\" apps are among the most popular, with \"Communication\" apps averaging over 38 million installs, \"Video Players\" around 24.7 million, and \"Social\" apps over 23 million. These categories are popular because they meet everyday needs—people use communication and social apps to stay connected, and video players for entertainment.\n",
    "\n",
    "While \"Games\" are also widely installed, averaging about 15.5 million installs, they aren't the top category on Google Play, unlike on the App Store where games are the most dominant. Instead, categories like \"Photography\" and \"Productivity\" also have a strong following, with average installs of 17.8 million and 16.7 million, respectively. This suggests that users on Google Play are not only interested in entertainment but also in apps that help them be productive or creative.\n",
    "\n",
    "Based on these findings, a good app idea for Google Play might be one that falls into the \"Productivity\" or \"Photography\" categories. These types of apps attract a lot of users and could also do well on the App Store. For example, a productivity app that includes creative features like photo editing or project management tools could appeal to a wide audience on both platforms, combining the practicality that users value with the creative features that they enjoy."
   ]
  },
  {
   "cell_type": "markdown",
   "metadata": {},
   "source": [
    "##### Most Popular Apps By Genre on Android (using user rating)"
   ]
  },
  {
   "cell_type": "code",
   "execution_count": 26,
   "metadata": {},
   "outputs": [],
   "source": [
    "freq_table, genre_freq_table = freq_table(android_final, 9)"
   ]
  },
  {
   "cell_type": "code",
   "execution_count": 30,
   "metadata": {
    "scrolled": false
   },
   "outputs": [
    {
     "name": "stdout",
     "output_type": "stream",
     "text": [
      "Art & Design : nan\n",
      "Art & Design;Creativity : 4.35\n",
      "Auto & Vehicles : nan\n",
      "Beauty : nan\n",
      "Books & Reference : nan\n",
      "Business : nan\n",
      "Comics : nan\n",
      "Comics;Creativity : 4.8\n",
      "Communication : nan\n",
      "Dating : nan\n",
      "Education : nan\n",
      "Education;Creativity : 4.375\n",
      "Education;Education : 4.303333333333332\n",
      "Education;Pretend Play : 4.1\n",
      "Education;Brain Games : 4.433333333333334\n",
      "Entertainment : nan\n",
      "Entertainment;Brain Games : 4.3\n",
      "Entertainment;Creativity : 4.533333333333333\n",
      "Entertainment;Music & Video : 4.180000000000001\n",
      "Events : nan\n",
      "Finance : nan\n",
      "Food & Drink : nan\n",
      "Health & Fitness : nan\n",
      "House & Home : nan\n",
      "Libraries & Demo : nan\n",
      "Lifestyle : nan\n",
      "Lifestyle;Pretend Play : 4.0\n",
      "Card : nan\n",
      "Arcade : nan\n",
      "Puzzle : nan\n",
      "Racing : nan\n",
      "Sports : nan\n",
      "Casual : nan\n",
      "Simulation : nan\n",
      "Adventure : nan\n",
      "Trivia : nan\n",
      "Action : nan\n",
      "Word : nan\n",
      "Role Playing : nan\n",
      "Strategy : nan\n",
      "Board : nan\n",
      "Music : nan\n",
      "Action;Action & Adventure : 4.288888888888888\n",
      "Casual;Brain Games : 4.475\n",
      "Educational;Creativity : 4.2\n",
      "Puzzle;Brain Games : 4.333333333333332\n",
      "Educational;Education : nan\n",
      "Casual;Pretend Play : 4.114285714285715\n",
      "Educational;Brain Games : 4.216666666666667\n",
      "Art & Design;Pretend Play : 3.9\n",
      "Educational;Pretend Play : 4.300000000000001\n",
      "Entertainment;Education : 4.4\n",
      "Casual;Education : 4.25\n",
      "Casual;Creativity : 4.35\n",
      "Casual;Action & Adventure : 4.183333333333333\n",
      "Music;Music & Video : 4.449999999999999\n",
      "Arcade;Pretend Play : 4.5\n",
      "Adventure;Action & Adventure : 4.3999999999999995\n",
      "Role Playing;Action & Adventure : 4.333333333333333\n",
      "Simulation;Pretend Play : 4.55\n",
      "Puzzle;Creativity : 4.4\n",
      "Simulation;Action & Adventure : 4.3428571428571425\n",
      "Racing;Action & Adventure : 4.313333333333333\n",
      "Sports;Action & Adventure : 4.5\n",
      "Educational;Action & Adventure : 4.233333333333333\n",
      "Arcade;Action & Adventure : nan\n",
      "Entertainment;Action & Adventure : 4.2\n",
      "Art & Design;Action & Adventure : nan\n",
      "Puzzle;Action & Adventure : 4.3\n",
      "Education;Action & Adventure : 4.266666666666667\n",
      "Strategy;Action & Adventure : 4.6\n",
      "Music & Audio;Music & Video : 4.3\n",
      "Health & Fitness;Education : 4.7\n",
      "Board;Action & Adventure : 4.05\n",
      "Board;Brain Games : 4.228571428571429\n",
      "Casual;Music & Video : 4.1\n",
      "Education;Music & Video : 4.133333333333333\n",
      "Role Playing;Pretend Play : 4.125\n",
      "Entertainment;Pretend Play : 4.0\n",
      "Medical : nan\n",
      "Social : nan\n",
      "Shopping : nan\n",
      "Photography : nan\n",
      "Travel & Local : nan\n",
      "Travel & Local;Action & Adventure : 4.1\n",
      "Tools : nan\n",
      "Tools;Education : 4.5\n",
      "Personalization : nan\n",
      "Productivity : nan\n",
      "Parenting : nan\n",
      "Parenting;Music & Video : 4.333333333333333\n",
      "Parenting;Education : nan\n",
      "Parenting;Brain Games : 3.8\n",
      "Weather : nan\n",
      "Video Players & Editors : nan\n",
      "Video Players & Editors;Music & Video : 4.0\n",
      "Video Players & Editors;Creativity : 4.1\n",
      "News & Magazines : nan\n",
      "Maps & Navigation : nan\n",
      "Health & Fitness;Action & Adventure : 3.9\n",
      "Educational : nan\n",
      "Casino : nan\n",
      "Trivia;Education : nan\n",
      "Lifestyle;Education : 4.3\n",
      "Card;Action & Adventure : 4.3\n",
      "Books & Reference;Education : 3.7\n",
      "Simulation;Education : 4.4\n",
      "Puzzle;Education : 4.6\n",
      "Adventure;Education : 4.1\n",
      "Role Playing;Brain Games : 4.3\n",
      "Strategy;Education : 4.5\n",
      "Racing;Pretend Play : 4.5\n",
      "Communication;Creativity : 4.2\n",
      "Strategy;Creativity : 4.4\n"
     ]
    }
   ],
   "source": [
    "genre_ratings = {}\n",
    "\n",
    "for row in android_final:\n",
    "    genre = row[9]  #genre index 9\n",
    "    rating = float(row[2])  # rating index 2\n",
    "    \n",
    "    if genre in genre_ratings:\n",
    "        genre_ratings[genre]['total_ratings'] += rating\n",
    "        genre_ratings[genre]['count'] += 1\n",
    "    else:\n",
    "        genre_ratings[genre] = {'total_ratings': rating, 'count': 1}\n",
    "\n",
    "# average rating for each genre\n",
    "avg_genre_ratings = {}\n",
    "\n",
    "for genre, values in genre_ratings.items():\n",
    "    avg_rating = values['total_ratings'] / values['count']\n",
    "    avg_genre_ratings[genre] = avg_rating\n",
    "    print(genre, ':', avg_rating)"
   ]
  },
  {
   "cell_type": "markdown",
   "metadata": {},
   "source": [
    "average user ratings for different genres in the Google Play dataset shows that users tend to give higher ratings to apps that are creative or educational. For example, genres like \"Art & Design; Creativity,\" \"Educational; Brain Games,\" and \"Simulation; Education\" all have average ratings above 4.3, indicating that people really enjoy apps that combine learning with creative activities. Similarly, apps that mix entertainment with action, such as \"Sports; Action & Adventure\" and \"Strategy; Action & Adventure,\" also receive high ratings, often above 4.5.\n",
    "\n",
    "On the other hand, many practical categories like \"Business,\" \"Finance,\" and \"Productivity\" have missing data (shown as \"nan\" in the results), which might mean that there aren't many apps in these categories or that users aren't as engaged with them.\n",
    "\n",
    "Overall, it seems that apps focused on creativity, education, and interactive entertainment are particularly well-liked by users. These types of apps could be good areas to explore for developing new apps that people will enjoy and potentially spend money on through in-app purchases or subscriptions."
   ]
  },
  {
   "cell_type": "markdown",
   "metadata": {},
   "source": [
    "### Conclusion\n",
    "This project gave us useful insights into the App Store and Google Play markets. We found that the App Store is mostly dominated by games, while Google Play has a more varied mix of popular app types, including communication, productivity, and photography apps.\n",
    "\n",
    "Based on these findings, a good strategy would be to develop an app that blends practical features with creative or entertainment elements. For example, a productivity app with photo editing or project management features could do well on both platforms.\n",
    "\n",
    "Overall, understanding these trends can help guide app development to better meet user preferences and increase the chances of success in both markets."
   ]
  },
  {
   "cell_type": "code",
   "execution_count": 31,
   "metadata": {},
   "outputs": [
    {
     "name": "stdout",
     "output_type": "stream",
     "text": [
      "Art & Design: nan\n",
      "Art & Design;Creativity: 4.35\n",
      "Auto & Vehicles: nan\n",
      "Beauty: nan\n",
      "Books & Reference: nan\n",
      "Business: nan\n",
      "Comics: nan\n",
      "Comics;Creativity: 4.8\n",
      "Communication: nan\n",
      "Dating: nan\n",
      "Education: nan\n",
      "Education;Creativity: 4.375\n",
      "Education;Education: 4.303333333333332\n",
      "Education;Pretend Play: 4.1\n",
      "Education;Brain Games: 4.433333333333334\n",
      "Entertainment: nan\n",
      "Entertainment;Brain Games: 4.3\n",
      "Entertainment;Creativity: 4.533333333333333\n",
      "Entertainment;Music & Video: 4.180000000000001\n",
      "Events: nan\n",
      "Finance: nan\n",
      "Food & Drink: nan\n",
      "Health & Fitness: nan\n",
      "House & Home: nan\n",
      "Libraries & Demo: nan\n",
      "Lifestyle: nan\n",
      "Lifestyle;Pretend Play: 4.0\n",
      "Card: nan\n",
      "Arcade: nan\n",
      "Puzzle: nan\n",
      "Racing: nan\n",
      "Sports: nan\n",
      "Casual: nan\n",
      "Simulation: nan\n",
      "Adventure: nan\n",
      "Trivia: nan\n",
      "Action: nan\n",
      "Word: nan\n",
      "Role Playing: nan\n",
      "Strategy: nan\n",
      "Board: nan\n",
      "Music: nan\n",
      "Action;Action & Adventure: 4.288888888888888\n",
      "Casual;Brain Games: 4.475\n",
      "Educational;Creativity: 4.2\n",
      "Puzzle;Brain Games: 4.333333333333332\n",
      "Educational;Education: nan\n",
      "Casual;Pretend Play: 4.114285714285715\n",
      "Educational;Brain Games: 4.216666666666667\n",
      "Art & Design;Pretend Play: 3.9\n",
      "Educational;Pretend Play: 4.300000000000001\n",
      "Entertainment;Education: 4.4\n",
      "Casual;Education: 4.25\n",
      "Casual;Creativity: 4.35\n",
      "Casual;Action & Adventure: 4.183333333333333\n",
      "Music;Music & Video: 4.449999999999999\n",
      "Arcade;Pretend Play: 4.5\n",
      "Adventure;Action & Adventure: 4.3999999999999995\n",
      "Role Playing;Action & Adventure: 4.333333333333333\n",
      "Simulation;Pretend Play: 4.55\n",
      "Puzzle;Creativity: 4.4\n",
      "Simulation;Action & Adventure: 4.3428571428571425\n",
      "Racing;Action & Adventure: 4.313333333333333\n",
      "Sports;Action & Adventure: 4.5\n",
      "Educational;Action & Adventure: 4.233333333333333\n",
      "Arcade;Action & Adventure: nan\n",
      "Entertainment;Action & Adventure: 4.2\n",
      "Art & Design;Action & Adventure: nan\n",
      "Puzzle;Action & Adventure: 4.3\n",
      "Education;Action & Adventure: 4.266666666666667\n",
      "Strategy;Action & Adventure: 4.6\n",
      "Music & Audio;Music & Video: 4.3\n",
      "Health & Fitness;Education: 4.7\n",
      "Board;Action & Adventure: 4.05\n",
      "Board;Brain Games: 4.228571428571429\n",
      "Casual;Music & Video: 4.1\n",
      "Education;Music & Video: 4.133333333333333\n",
      "Role Playing;Pretend Play: 4.125\n",
      "Entertainment;Pretend Play: 4.0\n",
      "Medical: nan\n",
      "Social: nan\n",
      "Shopping: nan\n",
      "Photography: nan\n",
      "Travel & Local: nan\n",
      "Travel & Local;Action & Adventure: 4.1\n",
      "Tools: nan\n",
      "Tools;Education: 4.5\n",
      "Personalization: nan\n",
      "Productivity: nan\n",
      "Parenting: nan\n",
      "Parenting;Music & Video: 4.333333333333333\n",
      "Parenting;Education: nan\n",
      "Parenting;Brain Games: 3.8\n",
      "Weather: nan\n",
      "Video Players & Editors: nan\n",
      "Video Players & Editors;Music & Video: 4.0\n",
      "Video Players & Editors;Creativity: 4.1\n",
      "News & Magazines: nan\n",
      "Maps & Navigation: nan\n",
      "Health & Fitness;Action & Adventure: 3.9\n",
      "Educational: nan\n",
      "Casino: nan\n",
      "Trivia;Education: nan\n",
      "Lifestyle;Education: 4.3\n",
      "Card;Action & Adventure: 4.3\n",
      "Books & Reference;Education: 3.7\n",
      "Simulation;Education: 4.4\n",
      "Puzzle;Education: 4.6\n",
      "Adventure;Education: 4.1\n",
      "Role Playing;Brain Games: 4.3\n",
      "Strategy;Education: 4.5\n",
      "Racing;Pretend Play: 4.5\n",
      "Communication;Creativity: 4.2\n",
      "Strategy;Creativity: 4.4\n"
     ]
    }
   ],
   "source": [
    "def avg_rating_per_genre(dataset, genre_index, rating_index):\n",
    "    genre_ratings = {}\n",
    "    \n",
    "    for row in dataset:\n",
    "        genre = row[genre_index]\n",
    "        rating = float(row[rating_index])\n",
    "        \n",
    "        if genre in genre_ratings:\n",
    "            genre_ratings[genre].append(rating)\n",
    "        else:\n",
    "            genre_ratings[genre] = [rating]\n",
    "    \n",
    "    avg_ratings = {}\n",
    "    for genre, ratings in genre_ratings.items():\n",
    "        avg_ratings[genre] = sum(ratings) / len(ratings)\n",
    "    \n",
    "    return avg_ratings\n",
    "\n",
    "# Calculate the average rating per genre\n",
    "avg_genre_ratings = avg_rating_per_genre(android_final, 9, 2)  # 9 is the 'Genre' column index, 2 is the 'Rating' column index\n",
    "\n",
    "# Print the average ratings for each genre\n",
    "for genre, avg_rating in avg_genre_ratings.items():\n",
    "    print(f\"{genre}: {avg_rating}\")\n"
   ]
  },
  {
   "cell_type": "code",
   "execution_count": null,
   "metadata": {},
   "outputs": [],
   "source": []
  }
 ],
 "metadata": {
  "kernelspec": {
   "display_name": "Python 3",
   "language": "python",
   "name": "python3"
  },
  "language_info": {
   "codemirror_mode": {
    "name": "ipython",
    "version": 3
   },
   "file_extension": ".py",
   "mimetype": "text/x-python",
   "name": "python",
   "nbconvert_exporter": "python",
   "pygments_lexer": "ipython3",
   "version": "3.8.2"
  }
 },
 "nbformat": 4,
 "nbformat_minor": 2
}
